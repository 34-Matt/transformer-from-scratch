{
 "cells": [
  {
   "cell_type": "markdown",
   "metadata": {},
   "source": [
    "# Tests\n",
    "\n",
    "This notebooks contains all the tests used to validate the model."
   ]
  },
  {
   "cell_type": "code",
   "execution_count": 4,
   "metadata": {},
   "outputs": [],
   "source": [
    "from T1000 import *\n",
    "\n",
    "import torch\n",
    "\n",
    "test_config = GPTConfig()\n",
    "\n",
    "n_context = 10\n",
    "x_vector = torch.randint(0, test_config.d_vocab, (n_context,))\n",
    "x_embeded = torch.rand((n_context, test_config.d_model))"
   ]
  },
  {
   "cell_type": "markdown",
   "metadata": {},
   "source": [
    "## Test 1: Attention Head\n",
    "\n",
    "Test that a single attention head is working correctly."
   ]
  },
  {
   "cell_type": "code",
   "execution_count": 6,
   "metadata": {},
   "outputs": [],
   "source": [
    "single_attention = AttentionHead(test_config)\n",
    "y = single_attention(x_embeded)\n",
    "assert y.shape == x_embeded.shape\n",
    "assert torch.isnan(y).any() == 0"
   ]
  },
  {
   "cell_type": "markdown",
   "metadata": {},
   "source": [
    "## Test 2: Multi-Head Attention\n",
    "\n",
    "Test that the multi-head attention is working correctly."
   ]
  },
  {
   "cell_type": "code",
   "execution_count": 7,
   "metadata": {},
   "outputs": [],
   "source": [
    "multi_attention = MultiHeadedAttention(test_config)\n",
    "y = multi_attention(x_embeded)\n",
    "assert y.shape == x_embeded.shape\n",
    "assert torch.isnan(y).any() == 0"
   ]
  },
  {
   "cell_type": "markdown",
   "metadata": {},
   "source": [
    "## Test 3: MLP\n",
    "\n",
    "Test that the MLP is working correctly."
   ]
  },
  {
   "cell_type": "code",
   "execution_count": 8,
   "metadata": {},
   "outputs": [],
   "source": [
    "mlp = MLP(test_config)\n",
    "y = mlp(x_embeded)\n",
    "assert y.shape == x_embeded.shape\n",
    "assert torch.isnan(y).any() == 0"
   ]
  },
  {
   "cell_type": "markdown",
   "metadata": {},
   "source": [
    "## Test 4: Transformer Block\n",
    "\n",
    "Test that the transformer block is working correctly."
   ]
  },
  {
   "cell_type": "code",
   "execution_count": 12,
   "metadata": {},
   "outputs": [
    {
     "name": "stdout",
     "output_type": "stream",
     "text": [
      "tensor([[nan, nan, nan,  ..., nan, nan, nan],\n",
      "        [nan, nan, nan,  ..., nan, nan, nan],\n",
      "        [nan, nan, nan,  ..., nan, nan, nan],\n",
      "        ...,\n",
      "        [nan, nan, nan,  ..., nan, nan, nan],\n",
      "        [nan, nan, nan,  ..., nan, nan, nan],\n",
      "        [nan, nan, nan,  ..., nan, nan, nan]], grad_fn=<AddmmBackward0>)\n"
     ]
    },
    {
     "ename": "AssertionError",
     "evalue": "",
     "output_type": "error",
     "traceback": [
      "\u001b[1;31m---------------------------------------------------------------------------\u001b[0m",
      "\u001b[1;31mAssertionError\u001b[0m                            Traceback (most recent call last)",
      "Cell \u001b[1;32mIn[12], line 5\u001b[0m\n\u001b[0;32m      3\u001b[0m \u001b[38;5;28mprint\u001b[39m(y)\n\u001b[0;32m      4\u001b[0m \u001b[38;5;28;01massert\u001b[39;00m y\u001b[38;5;241m.\u001b[39mshape \u001b[38;5;241m==\u001b[39m (n_context, test_config\u001b[38;5;241m.\u001b[39md_vocab)\n\u001b[1;32m----> 5\u001b[0m \u001b[38;5;28;01massert\u001b[39;00m torch\u001b[38;5;241m.\u001b[39misnan(y)\u001b[38;5;241m.\u001b[39many() \u001b[38;5;241m==\u001b[39m \u001b[38;5;241m0\u001b[39m\n",
      "\u001b[1;31mAssertionError\u001b[0m: "
     ]
    }
   ],
   "source": [
    "transformer = Transformer(test_config)\n",
    "y = transformer(x_vector)\n",
    "print(y)\n",
    "assert y.shape == (n_context, test_config.d_vocab)\n",
    "assert torch.isnan(y).any() == 0"
   ]
  },
  {
   "cell_type": "code",
   "execution_count": 2,
   "metadata": {},
   "outputs": [
    {
     "name": "stdout",
     "output_type": "stream",
     "text": [
      "torch.Size([10])\n",
      "torch.Size([10, 10000])\n"
     ]
    }
   ],
   "source": [
    "test_config = GPTConfig()\n",
    "test_x = torch.randint(low=0, high=test_config.d_vocab, size=(10,))\n",
    "test_T1000 = Transformer(test_config)\n",
    "test_y = test_T1000.forward(test_x)\n",
    "print(test_x.shape)\n",
    "print(test_y.shape)"
   ]
  }
 ],
 "metadata": {
  "kernelspec": {
   "display_name": "LLM_Class",
   "language": "python",
   "name": "python3"
  },
  "language_info": {
   "codemirror_mode": {
    "name": "ipython",
    "version": 3
   },
   "file_extension": ".py",
   "mimetype": "text/x-python",
   "name": "python",
   "nbconvert_exporter": "python",
   "pygments_lexer": "ipython3",
   "version": "3.10.16"
  }
 },
 "nbformat": 4,
 "nbformat_minor": 2
}
