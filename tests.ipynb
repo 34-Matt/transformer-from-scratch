{
 "cells": [
  {
   "cell_type": "markdown",
   "metadata": {},
   "source": [
    "# Tests\n",
    "\n",
    "This notebooks contains all the tests used to validate the model."
   ]
  },
  {
   "cell_type": "code",
   "execution_count": 7,
   "metadata": {},
   "outputs": [],
   "source": [
    "from T1000 import *\n",
    "\n",
    "import torch\n",
    "\n",
    "test_config = GPTConfig()\n",
    "\n",
    "n_context = 10\n",
    "x_vector = torch.randint(0, test_config.d_vocab, (n_context,))\n",
    "x_embeded = torch.rand((n_context, test_config.d_model))"
   ]
  },
  {
   "cell_type": "markdown",
   "metadata": {},
   "source": [
    "## Test 1: Attention Head\n",
    "\n",
    "Test that a single attention head is working correctly."
   ]
  },
  {
   "cell_type": "code",
   "execution_count": 8,
   "metadata": {},
   "outputs": [],
   "source": [
    "single_attention = AttentionHead(test_config)\n",
    "y = single_attention(x_embeded)\n",
    "assert y.shape == x_embeded.shape\n",
    "assert torch.isnan(y).any() == 0"
   ]
  },
  {
   "cell_type": "markdown",
   "metadata": {},
   "source": [
    "## Test 2: Multi-Head Attention\n",
    "\n",
    "Test that the multi-head attention is working correctly."
   ]
  },
  {
   "cell_type": "code",
   "execution_count": 9,
   "metadata": {},
   "outputs": [],
   "source": [
    "multi_attention = MultiHeadedAttention(test_config)\n",
    "y = multi_attention(x_embeded)\n",
    "assert y.shape == x_embeded.shape\n",
    "assert torch.isnan(y).any() == 0"
   ]
  },
  {
   "cell_type": "markdown",
   "metadata": {},
   "source": [
    "## Test 3: MLP\n",
    "\n",
    "Test that the MLP is working correctly."
   ]
  },
  {
   "cell_type": "code",
   "execution_count": 10,
   "metadata": {},
   "outputs": [],
   "source": [
    "mlp = MLP(test_config)\n",
    "y = mlp(x_embeded)\n",
    "assert y.shape == x_embeded.shape\n",
    "assert torch.isnan(y).any() == 0"
   ]
  },
  {
   "cell_type": "markdown",
   "metadata": {},
   "source": [
    "## Test 4: Transformer Block\n",
    "\n",
    "Test that the transformer block is working correctly."
   ]
  },
  {
   "cell_type": "code",
   "execution_count": 11,
   "metadata": {},
   "outputs": [
    {
     "name": "stdout",
     "output_type": "stream",
     "text": [
      "tensor([[-5.0241e-01,  3.0332e-01, -2.1832e+00,  ..., -1.4108e+00,\n",
      "         -5.5624e-01,  4.0513e-01],\n",
      "        [-2.9042e-01,  1.3649e-01, -1.8997e+00,  ..., -1.4271e+00,\n",
      "         -3.0434e-01,  2.5214e-01],\n",
      "        [-2.3843e-01,  7.0428e-02, -1.7417e+00,  ..., -1.2985e+00,\n",
      "         -1.8418e-01,  1.4210e-01],\n",
      "        ...,\n",
      "        [-5.5133e-02, -2.4541e-02, -1.3909e+00,  ..., -1.0647e+00,\n",
      "         -2.9231e-02, -9.7207e-04],\n",
      "        [ 6.0265e-03, -6.3036e-02, -1.3164e+00,  ..., -1.0311e+00,\n",
      "          2.3282e-02, -3.7926e-02],\n",
      "        [ 6.5875e-03, -8.1598e-02, -1.3266e+00,  ..., -1.0392e+00,\n",
      "          1.1540e-02, -1.3776e-02]], grad_fn=<AddmmBackward0>)\n"
     ]
    }
   ],
   "source": [
    "transformer = Transformer(test_config)\n",
    "y = transformer(x_vector)\n",
    "print(y)\n",
    "assert y.shape == (n_context, test_config.d_vocab)\n",
    "assert torch.isnan(y).any() == 0"
   ]
  },
  {
   "cell_type": "code",
   "execution_count": 12,
   "metadata": {},
   "outputs": [
    {
     "name": "stdout",
     "output_type": "stream",
     "text": [
      "torch.Size([10])\n",
      "torch.Size([10, 10000])\n"
     ]
    }
   ],
   "source": [
    "test_config = GPTConfig()\n",
    "test_x = torch.randint(low=0, high=test_config.d_vocab, size=(10,))\n",
    "test_T1000 = Transformer(test_config)\n",
    "test_y = test_T1000.forward(test_x)\n",
    "print(test_x.shape)\n",
    "print(test_y.shape)"
   ]
  }
 ],
 "metadata": {
  "kernelspec": {
   "display_name": "venv",
   "language": "python",
   "name": "python3"
  },
  "language_info": {
   "codemirror_mode": {
    "name": "ipython",
    "version": 3
   },
   "file_extension": ".py",
   "mimetype": "text/x-python",
   "name": "python",
   "nbconvert_exporter": "python",
   "pygments_lexer": "ipython3",
   "version": "3.13.2"
  }
 },
 "nbformat": 4,
 "nbformat_minor": 2
}
